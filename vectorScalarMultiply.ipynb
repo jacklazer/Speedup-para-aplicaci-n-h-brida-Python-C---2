{
  "nbformat": 4,
  "nbformat_minor": 0,
  "metadata": {
    "colab": {
      "provenance": [],
      "authorship_tag": "ABX9TyOS4yzDCYCkko3ztQ4B6Mr+",
      "include_colab_link": true
    },
    "kernelspec": {
      "name": "python3",
      "display_name": "Python 3"
    },
    "language_info": {
      "name": "python"
    }
  },
  "cells": [
    {
      "cell_type": "markdown",
      "metadata": {
        "id": "view-in-github",
        "colab_type": "text"
      },
      "source": [
        "<a href=\"https://colab.research.google.com/github/jacklazer/Speedup-para-aplicaci-n-h-brida-Python-C---2/blob/main/vectorScalarMultiply.ipynb\" target=\"_parent\"><img src=\"https://colab.research.google.com/assets/colab-badge.svg\" alt=\"Open In Colab\"/></a>"
      ]
    },
    {
      "cell_type": "markdown",
      "source": [
        "Integrantes:\n",
        "- Hernan David Cisneros Vargas\n",
        "- Juan Sebastian Cifuentes\n",
        "- Santiago Duque Chacón"
      ],
      "metadata": {
        "id": "8LypVPSRTtbf"
      }
    },
    {
      "cell_type": "code",
      "source": [
        "!apt-get update\n",
        "!apt-get install gcc\n"
      ],
      "metadata": {
        "colab": {
          "base_uri": "https://localhost:8080/"
        },
        "id": "xOv0duBoBtXT",
        "outputId": "65332887-e969-46ea-e6cc-6f7883de198b"
      },
      "execution_count": 42,
      "outputs": [
        {
          "output_type": "stream",
          "name": "stdout",
          "text": [
            "\r0% [Working]\r            \rHit:1 https://cloud.r-project.org/bin/linux/ubuntu jammy-cran40/ InRelease\n",
            "Hit:2 https://developer.download.nvidia.com/compute/cuda/repos/ubuntu2204/x86_64  InRelease\n",
            "Hit:3 http://security.ubuntu.com/ubuntu jammy-security InRelease\n",
            "Hit:4 http://archive.ubuntu.com/ubuntu jammy InRelease\n",
            "Hit:5 http://archive.ubuntu.com/ubuntu jammy-updates InRelease\n",
            "Hit:6 http://archive.ubuntu.com/ubuntu jammy-backports InRelease\n",
            "Hit:7 https://ppa.launchpadcontent.net/c2d4u.team/c2d4u4.0+/ubuntu jammy InRelease\n",
            "Hit:8 https://ppa.launchpadcontent.net/deadsnakes/ppa/ubuntu jammy InRelease\n",
            "Hit:9 https://ppa.launchpadcontent.net/graphics-drivers/ppa/ubuntu jammy InRelease\n",
            "Hit:10 https://ppa.launchpadcontent.net/ubuntugis/ppa/ubuntu jammy InRelease\n",
            "Reading package lists... Done\n",
            "Reading package lists... Done\n",
            "Building dependency tree... Done\n",
            "Reading state information... Done\n",
            "gcc is already the newest version (4:11.2.0-1ubuntu1).\n",
            "0 upgraded, 0 newly installed, 0 to remove and 44 not upgraded.\n"
          ]
        }
      ]
    },
    {
      "cell_type": "code",
      "execution_count": 43,
      "metadata": {
        "colab": {
          "base_uri": "https://localhost:8080/"
        },
        "id": "K6GtkosS5jiJ",
        "outputId": "75e9591f-66b7-4588-f347-c08c857af2ff"
      },
      "outputs": [
        {
          "output_type": "stream",
          "name": "stdout",
          "text": [
            "Overwriting vector_scalar_multiply.c\n"
          ]
        }
      ],
      "source": [
        "%%writefile vector_scalar_multiply.c\n",
        "\n",
        "#include <immintrin.h>\n",
        "#include <stdio.h>\n",
        "#include <assert.h>\n",
        "\n",
        "#define VECTORSIZE 4\n",
        "\n",
        "\n",
        "// Function to perform vector-scalar multiplication\n",
        "void vectorScalarMultiply(const double* vector, double scalar, double* result, int length) {\n",
        "    // Ensure the length is a multiple of 4 for proper alignment\n",
        "    int alignedLength = (length + 3) & ~3;\n",
        "\n",
        "    // Loop through the vector in 4-element chunks\n",
        "    for (int i = 0; i < alignedLength; i += 4) {\n",
        "        // Load the vector chunk into AVX register\n",
        "        __m256d vec = _mm256_loadu_pd(vector + i);\n",
        "\n",
        "        // Broadcast the scalar value to all elements of another AVX register\n",
        "        __m256d scalarVec = _mm256_broadcast_sd(&scalar);\n",
        "\n",
        "        // Perform element-wise multiplication\n",
        "        __m256d resultVec = _mm256_mul_pd(vec, scalarVec);\n",
        "\n",
        "        // Store the result back to memory\n",
        "        _mm256_storeu_pd(result + i, resultVec);\n",
        "    }\n",
        "}\n",
        "\n",
        "\n"
      ]
    },
    {
      "cell_type": "code",
      "source": [
        "!rm -f libvector.so\n",
        "!gcc -shared -o libvector.so -fPIC -mavx vector_scalar_multiply.c"
      ],
      "metadata": {
        "id": "-2lPFpy0_sqF"
      },
      "execution_count": 44,
      "outputs": []
    },
    {
      "cell_type": "code",
      "source": [
        "import ctypes\n",
        "import numpy as np\n",
        "\n",
        "# Cargando la biblioteca\n",
        "lib = ctypes.CDLL('./libvector.so')\n",
        "\n",
        "# Definiendo los tipos de argumentos y valor de retorno para la función en C\n",
        "lib.vectorScalarMultiply.argtypes = [np.ctypeslib.ndpointer(dtype=np.double),\n",
        "                                      ctypes.c_double,\n",
        "                                      np.ctypeslib.ndpointer(dtype=np.double),\n",
        "                                      ctypes.c_int]\n",
        "lib.vectorScalarMultiply.restype = None\n"
      ],
      "metadata": {
        "id": "9tCNm6JKCLTc"
      },
      "execution_count": 7,
      "outputs": []
    },
    {
      "cell_type": "code",
      "source": [
        "import timeit\n",
        "import time\n",
        "import cProfile as profile\n",
        "import pstats\n",
        "\n",
        "vector = np.random.rand(5000000)\n",
        "scalar = 3.0\n",
        "result = np.zeros_like(vector)\n",
        "prof = profile.Profile()\n",
        "\n",
        "#inicio captura de tiempo de ejecucion ingenuo\n",
        "inicio = time.time()\n",
        "\n",
        "#inicio captura de tiempo de ejecución del programa en libreria de enlace dinamico\n",
        "starting_time = timeit.default_timer()\n",
        "\n",
        "#inicio captura del perfilamiento\n",
        "prof.enable()\n",
        "\n",
        "lib.vectorScalarMultiply(vector, scalar, result, len(vector))\n",
        "\n",
        "#fin captura del perfilamiento\n",
        "prof.disable()\n",
        "\n",
        "#fin captura de tiempo de ejecución del programa en libreria de enlace dinamico\n",
        "ending_time = timeit.default_timer()\n",
        "\n",
        "#fin captura de tiempo de ejecucion ingenuo\n",
        "fin = time.time()\n",
        "\n",
        "print(\"Resultado multiplicacion vectorial:\", result, \"\\n\\n\")\n",
        "print(f\"Tiempo transcurrido (ingenuo) {fin - inicio}\\n\") # f-strings\n",
        "print(f\"Tiempo transcurrido (timeit) {ending_time - starting_time}\\n\") # f-strings\n",
        "print(f\"Tiempo transcurrido (cprofile)\\n\")\n",
        "stats = pstats.Stats(prof).strip_dirs().sort_stats(\"cumtime\")\n",
        "stats.print_stats(10)\n"
      ],
      "metadata": {
        "colab": {
          "base_uri": "https://localhost:8080/"
        },
        "id": "f4dVksj7Cae2",
        "outputId": "9cb6ebfb-667c-429e-e095-a6e9bf71e078"
      },
      "execution_count": 36,
      "outputs": [
        {
          "output_type": "stream",
          "name": "stdout",
          "text": [
            "Resultado multiplicacion vectorial: [1.79796459 0.01606188 0.40795824 ... 0.62388416 0.48815062 2.54463064] \n",
            "\n",
            "\n",
            "Tiempo transcurrido (ingenuo) 0.012319803237915039\n",
            "\n",
            "Tiempo transcurrido (timeit) 0.012193608999950811\n",
            "\n",
            "Tiempo transcurrido (cprofile)\n",
            "\n",
            "         102 function calls in 0.012 seconds\n",
            "\n",
            "   Ordered by: cumulative time\n",
            "   List reduced from 35 to 10 due to restriction <10>\n",
            "\n",
            "   ncalls  tottime  percall  cumtime  percall filename:lineno(function)\n",
            "        3    0.000    0.000    0.012    0.004 interactiveshell.py:3512(run_code)\n",
            "        3    0.000    0.000    0.012    0.004 {built-in method builtins.exec}\n",
            "        1    0.012    0.012    0.012    0.012 <ipython-input-36-d92dbda146be>:1(<cell line: 20>)\n",
            "        3    0.000    0.000    0.000    0.000 codeop.py:117(__call__)\n",
            "        3    0.000    0.000    0.000    0.000 {built-in method builtins.compile}\n",
            "        3    0.000    0.000    0.000    0.000 interactiveshell.py:3337(_update_code_co_name)\n",
            "        2    0.000    0.000    0.000    0.000 ctypeslib.py:182(from_param)\n",
            "        9    0.000    0.000    0.000    0.000 {built-in method builtins.next}\n",
            "        2    0.000    0.000    0.000    0.000 _internal.py:345(_as_parameter_)\n",
            "        3    0.000    0.000    0.000    0.000 contextlib.py:279(helper)\n",
            "\n",
            "\n"
          ]
        },
        {
          "output_type": "execute_result",
          "data": {
            "text/plain": [
              "<pstats.Stats at 0x7f63f4c1ada0>"
            ]
          },
          "metadata": {},
          "execution_count": 36
        }
      ]
    }
  ]
}